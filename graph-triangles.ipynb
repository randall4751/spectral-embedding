{
 "cells": [
  {
   "cell_type": "markdown",
   "metadata": {},
   "source": [
    "# Counting Graph Triangles\n",
    "\n",
    "Identifying and counting triangles in a graph is a useful way to detect communities in social networks. Triangle counts are also used to compute Local and Global Clustering Coefficients.\n",
    "\n",
    "## Graphs, Vertices and Edges\n",
    "Generally, a graph is defined as $𝐺=(𝑉,𝐸)$ where $𝑉$ is a set of vertices and $𝐸$ is a set of edges representing connections between vertices. The terms vertex and node are used interchangably, as well as the terms edge and arc. There are myriad variations of graph types.\n",
    "\n",
    "For simplicity, the graphs used in this notebook are limited to simple graphs, i.e. graphs where there can exist at most one, undirected and un-labeled edge between any two verticies. Additionally, node labels will consist of the integers $[0 .. N-1]$ where N is the number of nodes in the graph.\n",
    "\n",
    "## Graph Triangles\n",
    "\n",
    "A graph triangle is a 3-node subgraph where there exists an edge between each of the three node pairs, i.e. a fully-connected 3-node subgraph. A special property of the graph adjacency matrix is used to compute the number of triangles in a simple graph.\n",
    "\n",
    "## Graph Adjacency Matrix\n",
    "\n",
    "A graph adjacency matrix, $A$, for an N-node graph is an NxN matrix where the rows and columns represent the graph nodes, and connections between nodes are marked with an entry of 1. For instance, if node $i$ is connected to node $j$, then a 1 will appear at $A[i,j]$.\n",
    "\n",
    "A straightforward way to store a graph representation is as an edge list. In this file format, each line consists of two, space-separated labels representing an edge between two nodes in the graph, the first label being the edge source, the second the destination. The following function will read a simplified edge-list file (where node labels are a contiguous set of integers), and return the corresponding adjacency matrix.\n",
    "\n",
    "The following cell defines a function that reads an edge-list file and returns an adjacency matrix."
   ]
  },
  {
   "cell_type": "code",
   "execution_count": 1,
   "metadata": {},
   "outputs": [],
   "source": [
    "import numpy as np\n",
    "np.set_printoptions(precision=4, floatmode='fixed')\n",
    "\n",
    "def read_edge_list(filename):\n",
    "    #\n",
    "    #   read the graph edges as node label tuples\n",
    "    #\n",
    "    edges = []\n",
    "    with open(filename, encoding='utf-8') as f:\n",
    "        for line in f.readlines():\n",
    "            n1,n2 = line[:-1].split(' ')\n",
    "            edges.append((int(n1),int(n2)))    \n",
    "    #\n",
    "    #   create a set of node labels\n",
    "    #\n",
    "    nodes = set()\n",
    "    for edge in edges:\n",
    "        nodes.add(edge[0])\n",
    "        nodes.add(edge[1])\n",
    "    nodes = list(nodes)\n",
    "    N = len(nodes)\n",
    "    #\n",
    "    #   we assume that graph node labels are a set of contiguous integers\n",
    "    #\n",
    "    assert max(nodes) == N - 1\n",
    "    #\n",
    "    #   create the adjacency matrix from the list of edge tuples\n",
    "    #\n",
    "    A = np.zeros((N,N), dtype='int')\n",
    "    A[[edge[0] for edge in edges], [edge[1] for edge in edges]] = 1\n",
    "\n",
    "    return A\n"
   ]
  },
  {
   "cell_type": "markdown",
   "metadata": {},
   "source": [
    "As an example, here is a simple graph. Its edge-list is stored in graphs/simple-8-node-graph-edge-list.txt.\n",
    "\n",
    "![](images/simple-8-node-graph.png)"
   ]
  },
  {
   "cell_type": "code",
   "execution_count": 2,
   "metadata": {},
   "outputs": [
    {
     "name": "stdout",
     "output_type": "stream",
     "text": [
      "[[0 1 0 0 0 1 0 0]\n",
      " [1 0 1 1 1 0 0 0]\n",
      " [0 1 0 1 0 0 0 0]\n",
      " [0 1 1 0 0 0 0 1]\n",
      " [0 1 0 0 0 0 1 1]\n",
      " [1 0 0 0 0 0 1 0]\n",
      " [0 0 0 0 1 1 0 1]\n",
      " [0 0 0 1 1 0 1 0]]\n"
     ]
    }
   ],
   "source": [
    "A = read_edge_list('graphs/simple-8-node-graph-edge-list.txt')\n",
    "print(A)"
   ]
  },
  {
   "cell_type": "markdown",
   "metadata": {},
   "source": [
    "It is simple to test that the graph is a *simple graph*. Because graph connections are undirected, the adjacency matrix will be symmetric, and becuase there are no self-loops, the diagonal elements will be 0's."
   ]
  },
  {
   "cell_type": "code",
   "execution_count": 3,
   "metadata": {},
   "outputs": [],
   "source": [
    "assert np.all(A == A.T) and np.all(np.diagonal(A) == 0)"
   ]
  },
  {
   "cell_type": "markdown",
   "metadata": {},
   "source": [
    "The adjacency matrix shows the one-hop connections between graph vertices. Squaring the matrix will show two-hop connections."
   ]
  },
  {
   "cell_type": "code",
   "execution_count": 4,
   "metadata": {},
   "outputs": [
    {
     "name": "stdout",
     "output_type": "stream",
     "text": [
      "[[2 0 1 1 1 0 1 0]\n",
      " [0 4 1 1 0 1 1 2]\n",
      " [1 1 2 1 1 0 0 1]\n",
      " [1 1 1 3 2 0 1 0]\n",
      " [1 0 1 2 3 1 1 1]\n",
      " [0 1 0 0 1 2 0 1]\n",
      " [1 1 0 1 1 0 3 1]\n",
      " [0 2 1 0 1 1 1 3]]\n"
     ]
    }
   ],
   "source": [
    "A_2 = np.dot(A,A)\n",
    "print(A_2)"
   ]
  },
  {
   "cell_type": "markdown",
   "metadata": {},
   "source": [
    "In this example, there are two ways that node 0 can return to itself in two hops, 0-1-0 and 0-5-0. Similarly, there are four ways that node 1 can return to itself in two hops. In fact, the diagonal represents the degree (number of connections) of each node. The node degrees can also be computed by taking the marginal sums, using either axis.\n",
    "\n",
    "Generalizing, the $P^{th}$ power of the adjacency matrix shows the number of $P$-hops exist between nodes. This property is exploited to count the number of triangles in a graph.\n",
    "\n",
    "## Counting Triangles\n",
    "\n",
    "The key to the algorithm is to recognize that in a graph triangle, each node is exactly three hops from itself. Taking the 3<sup>rd</sup> power of the adjacency matrix shows the number of 3-hop connections between nodes."
   ]
  },
  {
   "cell_type": "code",
   "execution_count": 5,
   "metadata": {},
   "outputs": [
    {
     "name": "stdout",
     "output_type": "stream",
     "text": [
      "[[0 5 1 1 1 3 1 3]\n",
      " [5 2 5 7 7 1 3 2]\n",
      " [1 5 2 4 2 1 2 2]\n",
      " [1 7 4 2 2 2 2 6]\n",
      " [1 7 2 2 2 2 5 6]\n",
      " [3 1 1 2 2 0 4 1]\n",
      " [1 3 2 2 5 4 2 5]\n",
      " [3 2 2 6 6 1 5 2]]\n"
     ]
    }
   ],
   "source": [
    "A_3 = np.dot(np.dot(A,A),A)\n",
    "print(A_3)"
   ]
  },
  {
   "cell_type": "markdown",
   "metadata": {},
   "source": [
    "The diagonal elements are the number of 3-hop paths from each node back to itself, which is, by definition, the number of graph triangles that node is part of. The total number of graph triangles is computed by summing the diagonal elements. This sum is called the *trace* of the matrix in linear algebra. This sum is then divided by 6 to get the number of unique triangles because each node in a triangle has two ways to follow the triangle paths ... 3 nodes X 2 ways = 6."
   ]
  },
  {
   "cell_type": "code",
   "execution_count": 6,
   "metadata": {},
   "outputs": [
    {
     "name": "stdout",
     "output_type": "stream",
     "text": [
      "number of triangles = 2\n"
     ]
    }
   ],
   "source": [
    "number_of_triangles = np.trace(A_3)//6\n",
    "print(f'number of triangles = {number_of_triangles}')"
   ]
  },
  {
   "cell_type": "markdown",
   "metadata": {},
   "source": [
    "Examining the graph verifies that there are indeed 2 unique triangles\n",
    "\n",
    "![](images/simple-8-node-graph-triangles.png)"
   ]
  },
  {
   "cell_type": "markdown",
   "metadata": {},
   "source": [
    "As another example, consider a more complicated, 36-node graph.\n",
    "\n",
    "![](images/simple-36-node-graph.png)"
   ]
  },
  {
   "cell_type": "markdown",
   "metadata": {},
   "source": [
    "The edge-list file for this graph is in graphs/simple-36-node-graph-edge-list.txt. Read the edge-list and compute the number of triangles from the adjacency matrix."
   ]
  },
  {
   "cell_type": "code",
   "execution_count": 7,
   "metadata": {},
   "outputs": [
    {
     "name": "stdout",
     "output_type": "stream",
     "text": [
      "number of triangles = 11\n"
     ]
    }
   ],
   "source": [
    "A = read_edge_list('graphs/simple-36-node-graph-edge-list.txt')\n",
    "A_3 = np.dot(np.dot(A,A),A)\n",
    "n_triangles = np.trace(A_3)//6\n",
    "print(f'number of triangles = {n_triangles}')"
   ]
  },
  {
   "cell_type": "markdown",
   "metadata": {},
   "source": [
    "![](images/simple-36-node-graph-triangles.png)"
   ]
  },
  {
   "cell_type": "markdown",
   "metadata": {},
   "source": [
    "Finally, examine the number of triangles for node 6."
   ]
  },
  {
   "cell_type": "code",
   "execution_count": 8,
   "metadata": {},
   "outputs": [
    {
     "data": {
      "text/plain": [
       "4"
      ]
     },
     "execution_count": 8,
     "metadata": {},
     "output_type": "execute_result"
    }
   ],
   "source": [
    "#\n",
    "#  extract the diagonal as a vector, select node 6 and divide by two (the node counts triangles for two paths)\n",
    "#\n",
    "np.diagonal(A_3)[6]//2"
   ]
  },
  {
   "cell_type": "markdown",
   "metadata": {},
   "source": [
    "Node 6 is part of 4 graph triangles. "
   ]
  },
  {
   "cell_type": "markdown",
   "metadata": {},
   "source": [
    "## Local Clustering Coefficient\n",
    "\n",
    "The local clustering coefficient indicates \"how close its neighbours are to being a clique (complete graph).\" (see https://en.wikipedia.org/wiki/Clustering_coefficient) The Local Clustering Coefficient for each node is computed from the formula\n",
    "\n",
    "$$\n",
    "C_i = \\frac{number\\,of\\,closed\\,triplets}{number\\,of\\,all\\,tiplets\\,(open\\,and\\,closed)}\n",
    "$$\n",
    "\n",
    "The *number of closed triplets* is the number of triangles that node $C_i$ is part of and the *the number of all triplets* is just the number of one-hop neigbors of $C_i$ taken 2 at a time; for undirected graphs this number is $k(k-1)/2$ where $k$ is number of one-hop neigbors. Putting this together in vectorized form:\n",
    "\n",
    "$$\n",
    "C = \\frac{diagonal(A^3)/2}{(diagnonal(A^2)(diagnonal(A^2)-1)/2}\\Rightarrow\\frac{diagonal(A^3)}{diagnonal(A^2)(diagnonal(A^2)-1)}\n",
    "$$\n",
    "\n",
    "The following function returns the Local Clustering Coefficient for each node in the graph, given the graph adjacency matrix."
   ]
  },
  {
   "cell_type": "code",
   "execution_count": 9,
   "metadata": {},
   "outputs": [
    {
     "name": "stdout",
     "output_type": "stream",
     "text": [
      "[0.0000 0.0000 0.0000 0.0000 0.3333 0.1667 0.4000 0.3333 0.3333 0.3333\n",
      " 0.3333 0.1333 1.0000 0.3333 0.0000 0.0000 0.0000 0.0000 0.2000 0.0000\n",
      " 0.3333 0.2000 0.1000 0.3333 0.0000 0.0000 0.3333 0.3333 0.1667 0.2000\n",
      " 0.1667 0.0000 0.0000 0.3333 0.0000 0.0000]\n"
     ]
    }
   ],
   "source": [
    "def local_clustering_coefficient(A):\n",
    "    A_2 = np.dot(A,A)\n",
    "    A_3 = np.dot(A_2, A)\n",
    "    triangles = np.diagonal(A_3)\n",
    "    neighbors = np.diagonal(A_2)    # can also be computed as np.sum(A, axis=0) or np.sum(A, axis=1)\n",
    "    return triangles/(neighbors*(neighbors-1))\n",
    "\n",
    "lcc = local_clustering_coefficient(A)\n",
    "print(lcc)"
   ]
  }
 ],
 "metadata": {
  "kernelspec": {
   "display_name": "ml-kernel",
   "language": "python",
   "name": "ml-kernel"
  },
  "language_info": {
   "codemirror_mode": {
    "name": "ipython",
    "version": 3
   },
   "file_extension": ".py",
   "mimetype": "text/x-python",
   "name": "python",
   "nbconvert_exporter": "python",
   "pygments_lexer": "ipython3",
   "version": "3.7.6"
  }
 },
 "nbformat": 4,
 "nbformat_minor": 4
}
